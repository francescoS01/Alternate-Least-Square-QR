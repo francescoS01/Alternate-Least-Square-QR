{
 "cells": [
  {
   "cell_type": "code",
   "execution_count": 1,
   "metadata": {},
   "outputs": [],
   "source": [
    "from julia.api import Julia\n",
    "import os\n",
    "os.environ[\"JULIA_NUM_THREADS\"] = \"4\"\n",
    "jl = Julia(compiled_modules=False)"
   ]
  },
  {
   "cell_type": "code",
   "execution_count": 2,
   "metadata": {},
   "outputs": [],
   "source": [
    "#jl.eval('include(\"trash.jl\")')\n",
    "#result = jl.eval('func()')\n",
    "\n",
    "#print(result)"
   ]
  },
  {
   "cell_type": "code",
   "execution_count": 3,
   "metadata": {},
   "outputs": [
    {
     "name": "stdout",
     "output_type": "stream",
     "text": [
      "4\n"
     ]
    }
   ],
   "source": [
    "print(jl.eval('Threads.nthreads()'))"
   ]
  },
  {
   "cell_type": "code",
   "execution_count": 6,
   "metadata": {},
   "outputs": [
    {
     "name": "stdout",
     "output_type": "stream",
     "text": [
      "SVD all: \n",
      "0.1230919361114502\n",
      "\n",
      "\n",
      "Time for SVD: \n",
      "\n",
      "LSQR all: \n",
      "42.36751914024353\n",
      "\n",
      "\n",
      "0.015043151\n",
      "Time for SVD: 0.012810801\n",
      "Time for SVD: 0.016363917\n",
      "Time for SVD: 0.012655825\n",
      "Total time for SVD: 0.056873694LSQR parallel all: \n",
      "24.288240909576416\n",
      "\n",
      "\n",
      "LSQR parallel new all: \n",
      "23.843317985534668\n"
     ]
    }
   ],
   "source": [
    "import time \n",
    "import numpy as np\n",
    "\n",
    "jl.eval('include(\"time_varA.jl\")')\n",
    "\n",
    "\n",
    "jl.eval('create_matrix()')\n",
    "\n",
    "\n",
    "start_time = time.time()\n",
    "Ak_SVD = jl.eval('SVD_all()')\n",
    "elapsed_time = time.time() - start_time\n",
    "print(\"SVD all: \")\n",
    "print(elapsed_time)\n",
    "print(\"\\n\")\n",
    "\n",
    "Ak_SVD = jl.eval('julia_SVD_time()')\n",
    "print(\"\\n\")\n",
    "\n",
    "start_time = time.time()\n",
    "jl.eval(('LS_QR_all()'))\n",
    "elapsed_time = time.time() - start_time\n",
    "print(\"LSQR all: \")\n",
    "print(elapsed_time)\n",
    "print(\"\\n\")\n",
    "\n",
    "start_time = time.time()\n",
    "Ak_QR = jl.eval('LS_QR_parallel_all()')\n",
    "elapsed_time = time.time() - start_time\n",
    "print(\"LSQR parallel all: \")\n",
    "print(elapsed_time)\n",
    "print(\"\\n\")\n",
    "\n",
    "start_time = time.time()\n",
    "Ak_QR = jl.eval('LS_QR_parallel_new_all()')\n",
    "elapsed_time = time.time() - start_time\n",
    "print(\"LSQR parallel new all: \")\n",
    "print(elapsed_time)\n",
    "\n",
    "\n"
   ]
  },
  {
   "cell_type": "code",
   "execution_count": null,
   "metadata": {},
   "outputs": [],
   "source": []
  },
  {
   "cell_type": "code",
   "execution_count": 5,
   "metadata": {},
   "outputs": [
    {
     "ename": "SyntaxError",
     "evalue": "incomplete input (1561934476.py, line 9)",
     "output_type": "error",
     "traceback": [
      "\u001b[0;36m  Cell \u001b[0;32mIn[5], line 9\u001b[0;36m\u001b[0m\n\u001b[0;31m    \u001b[0m\n\u001b[0m    ^\u001b[0m\n\u001b[0;31mSyntaxError\u001b[0m\u001b[0;31m:\u001b[0m incomplete input\n"
     ]
    }
   ],
   "source": [
    "import time \n",
    "import numpy as np\n",
    "\n",
    "jl.eval('include(\"time_varA.jl\")')\n",
    "jl.eval('create_matrix()')\n",
    "\n",
    "for i in range(1, 10):\n",
    "    \n",
    "    "
   ]
  },
  {
   "cell_type": "code",
   "execution_count": null,
   "metadata": {},
   "outputs": [
    {
     "ename": "JuliaError",
     "evalue": "Exception 'UndefVarError: `num` not defined' occurred while calling julia code:\nnum()",
     "output_type": "error",
     "traceback": [
      "\u001b[0;31m---------------------------------------------------------------------------\u001b[0m",
      "\u001b[0;31mJuliaError\u001b[0m                                Traceback (most recent call last)",
      "Cell \u001b[0;32mIn[5], line 8\u001b[0m\n\u001b[1;32m      4\u001b[0m \u001b[38;5;28;01mimport\u001b[39;00m \u001b[38;5;21;01mtime\u001b[39;00m \n\u001b[1;32m      6\u001b[0m start_time \u001b[38;5;241m=\u001b[39m time\u001b[38;5;241m.\u001b[39mtime()\n\u001b[0;32m----> 8\u001b[0m num \u001b[38;5;241m=\u001b[39m \u001b[43mjl\u001b[49m\u001b[38;5;241;43m.\u001b[39;49m\u001b[43meval\u001b[49m\u001b[43m(\u001b[49m\u001b[38;5;124;43m'\u001b[39;49m\u001b[38;5;124;43mnum()\u001b[39;49m\u001b[38;5;124;43m'\u001b[39;49m\u001b[43m)\u001b[49m\n\u001b[1;32m     10\u001b[0m elapsed_time \u001b[38;5;241m=\u001b[39m time\u001b[38;5;241m.\u001b[39mtime() \u001b[38;5;241m-\u001b[39m start_time\n\u001b[1;32m     12\u001b[0m \u001b[38;5;28mprint\u001b[39m(elapsed_time)\n",
      "File \u001b[0;32m~/miniconda3/envs/CM/lib/python3.10/site-packages/julia/core.py:633\u001b[0m, in \u001b[0;36mJulia.eval\u001b[0;34m(self, src)\u001b[0m\n\u001b[1;32m    631\u001b[0m \u001b[38;5;28;01mif\u001b[39;00m src \u001b[38;5;129;01mis\u001b[39;00m \u001b[38;5;28;01mNone\u001b[39;00m:\n\u001b[1;32m    632\u001b[0m     \u001b[38;5;28;01mreturn\u001b[39;00m \u001b[38;5;28;01mNone\u001b[39;00m\n\u001b[0;32m--> 633\u001b[0m ans \u001b[38;5;241m=\u001b[39m \u001b[38;5;28;43mself\u001b[39;49m\u001b[38;5;241;43m.\u001b[39;49m\u001b[43m_call\u001b[49m\u001b[43m(\u001b[49m\u001b[43msrc\u001b[49m\u001b[43m)\u001b[49m\n\u001b[1;32m    634\u001b[0m \u001b[38;5;28;01mif\u001b[39;00m \u001b[38;5;129;01mnot\u001b[39;00m ans:\n\u001b[1;32m    635\u001b[0m     \u001b[38;5;28;01mreturn\u001b[39;00m \u001b[38;5;28;01mNone\u001b[39;00m\n",
      "File \u001b[0;32m~/miniconda3/envs/CM/lib/python3.10/site-packages/julia/core.py:561\u001b[0m, in \u001b[0;36mJulia._call\u001b[0;34m(self, src)\u001b[0m\n\u001b[1;32m    559\u001b[0m \u001b[38;5;66;03m# logger.debug(\"_call(%s)\", src)\u001b[39;00m\n\u001b[1;32m    560\u001b[0m ans \u001b[38;5;241m=\u001b[39m \u001b[38;5;28mself\u001b[39m\u001b[38;5;241m.\u001b[39mapi\u001b[38;5;241m.\u001b[39mjl_eval_string(src\u001b[38;5;241m.\u001b[39mencode(\u001b[38;5;124m'\u001b[39m\u001b[38;5;124mutf-8\u001b[39m\u001b[38;5;124m'\u001b[39m))\n\u001b[0;32m--> 561\u001b[0m \u001b[38;5;28;43mself\u001b[39;49m\u001b[38;5;241;43m.\u001b[39;49m\u001b[43mcheck_exception\u001b[49m\u001b[43m(\u001b[49m\u001b[43msrc\u001b[49m\u001b[43m)\u001b[49m\n\u001b[1;32m    563\u001b[0m \u001b[38;5;28;01mreturn\u001b[39;00m ans\n",
      "File \u001b[0;32m~/miniconda3/envs/CM/lib/python3.10/site-packages/julia/core.py:615\u001b[0m, in \u001b[0;36mJulia.check_exception\u001b[0;34m(self, src)\u001b[0m\n\u001b[1;32m    613\u001b[0m \u001b[38;5;28;01melse\u001b[39;00m:\n\u001b[1;32m    614\u001b[0m     exception \u001b[38;5;241m=\u001b[39m sprint(showerror, \u001b[38;5;28mself\u001b[39m\u001b[38;5;241m.\u001b[39m_as_pyobj(res))\n\u001b[0;32m--> 615\u001b[0m \u001b[38;5;28;01mraise\u001b[39;00m JuliaError(\u001b[38;5;124mu\u001b[39m\u001b[38;5;124m'\u001b[39m\u001b[38;5;124mException \u001b[39m\u001b[38;5;130;01m\\'\u001b[39;00m\u001b[38;5;132;01m{}\u001b[39;00m\u001b[38;5;130;01m\\'\u001b[39;00m\u001b[38;5;124m occurred while calling julia code:\u001b[39m\u001b[38;5;130;01m\\n\u001b[39;00m\u001b[38;5;132;01m{}\u001b[39;00m\u001b[38;5;124m'\u001b[39m\n\u001b[1;32m    616\u001b[0m                  \u001b[38;5;241m.\u001b[39mformat(exception, src))\n",
      "\u001b[0;31mJuliaError\u001b[0m: Exception 'UndefVarError: `num` not defined' occurred while calling julia code:\nnum()"
     ]
    }
   ],
   "source": [
    "jl.eval('include(\"plot_all.jl\")')\n",
    "jl.eval('include(\"plot_all.jl\")')\n",
    "jl.eval('include(\"../main/low_rank_SVD.jl\")')\n",
    "import time \n",
    "\n",
    "start_time = time.time()\n",
    "\n",
    "num = jl.eval('num()')\n",
    "\n",
    "elapsed_time = time.time() - start_time\n",
    "\n",
    "print(elapsed_time)\n",
    "\n",
    "Svd_time, LSQR_seq, LSQR_par = jl.eval('plot_all()')\n",
    "\n",
    "print(Svd_time)\n",
    "print(LSQR_seq)\n",
    "print(LSQR_par)\n"
   ]
  },
  {
   "cell_type": "code",
   "execution_count": null,
   "metadata": {},
   "outputs": [],
   "source": [
    "import seaborn as sns\n",
    "import matplotlib.pyplot as plt\n",
    "import pandas as pd\n",
    "\n",
    "# # Your data\n",
    "# data1 = [{'dim': (90, 50), 'time': 0.007954164}, {'dim': (95, 55), 'time': 0.008038622}, {'dim': (100, 60), 'time': 0.008534033}, {'dim': (105, 65), 'time': 0.009281944}]\n",
    "# data2 = [{'dim': (90, 50), 'time': 6.077339817}, {'dim': (95, 55), 'time': 9.769454199}, {'dim': (100, 60), 'time': 6.612801607}, {'dim': (105, 65), 'time': 6.926171987}]\n",
    "# data3 = [{'dim': (90, 50), 'time': 4.013967412}, {'dim': (95, 55), 'time': 6.025712728}, {'dim': (100, 60), 'time': 3.897401388}, {'dim': (105, 65), 'time': 4.277641491}]\n",
    "\n",
    "# Convert to DataFrames\n",
    "df1 = pd.DataFrame(data1)\n",
    "df2 = pd.DataFrame(data2)\n",
    "df3 = pd.DataFrame(data3)\n",
    "\n",
    "# Add a 'method' column to distinguish the data sources\n",
    "df1['method'] = 'SVD'\n",
    "df2['method'] = 'LSQR (sequential)'\n",
    "df3['method'] = 'LSQR (parallel)'\n",
    "\n",
    "# Concatenate the dataframes\n",
    "df = pd.concat([df1, df2, df3])\n",
    "\n",
    "# Convert 'dim' to string so it can be used as a categorical variable\n",
    "df['dim'] = df['dim'].astype(str)\n",
    "\n",
    "# Create the plot\n",
    "plt.figure(figsize=(10, 6))\n",
    "sns.pointplot(data=df, x='dim', y='time', hue='method', palette='deep')\n",
    "plt.xticks(rotation=45)\n",
    "plt.show()"
   ]
  }
 ],
 "metadata": {
  "kernelspec": {
   "display_name": "CM",
   "language": "python",
   "name": "python3"
  },
  "language_info": {
   "codemirror_mode": {
    "name": "ipython",
    "version": 3
   },
   "file_extension": ".py",
   "mimetype": "text/x-python",
   "name": "python",
   "nbconvert_exporter": "python",
   "pygments_lexer": "ipython3",
   "version": "3.10.14"
  }
 },
 "nbformat": 4,
 "nbformat_minor": 2
}
